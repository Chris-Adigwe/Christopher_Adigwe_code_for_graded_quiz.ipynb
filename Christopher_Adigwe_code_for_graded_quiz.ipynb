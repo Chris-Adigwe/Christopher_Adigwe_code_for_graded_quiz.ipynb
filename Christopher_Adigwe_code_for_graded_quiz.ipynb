{
  "nbformat": 4,
  "nbformat_minor": 0,
  "metadata": {
    "colab": {
      "name": "Christopher Adigwe code for graded quiz",
      "provenance": [],
      "authorship_tag": "ABX9TyO/rnNrNDWWzKwbHGfHBsCi",
      "include_colab_link": true
    },
    "kernelspec": {
      "name": "python3",
      "display_name": "Python 3"
    }
  },
  "cells": [
    {
      "cell_type": "markdown",
      "metadata": {
        "id": "view-in-github",
        "colab_type": "text"
      },
      "source": [
        "<a href=\"https://colab.research.google.com/github/Chris-Adigwe/Christopher_Adigwe_code_for_graded_quiz.ipynb/blob/master/Christopher_Adigwe_code_for_graded_quiz.ipynb\" target=\"_parent\"><img src=\"https://colab.research.google.com/assets/colab-badge.svg\" alt=\"Open In Colab\"/></a>"
      ]
    },
    {
      "cell_type": "code",
      "metadata": {
        "id": "yQbLgW6X5ox6",
        "colab_type": "code",
        "colab": {}
      },
      "source": [
        ""
      ],
      "execution_count": null,
      "outputs": []
    }
  ]
}